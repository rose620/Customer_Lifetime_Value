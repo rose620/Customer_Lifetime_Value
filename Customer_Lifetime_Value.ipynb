{
 "cells": [
  {
   "cell_type": "code",
   "execution_count": 1,
   "id": "9cd5ff54-2a2b-4d54-894a-d80681e4ee53",
   "metadata": {},
   "outputs": [],
   "source": [
    "# import packages and libraries\n",
    "import pandas as pd\n",
    "import numpy as np\n",
    "import collections\n",
    "import csv\n",
    "from itertools import repeat\n",
    "from functools import reduce\n",
    "import matplotlib.pyplot as plt\n",
    "import lifetimes\n",
    "from lifetimes import BetaGeoFitter, ParetoNBDFitter, GammaGammaFitter\n",
    "from lifetimes.datasets import load_dataset, load_cdnow_summary\n",
    "from lifetimes.utils import summary_data_from_transaction_data\n",
    "from lifetimes.plotting import plot_probability_alive_matrix, plot_frequency_recency_matrix, plot_period_transactions\n",
    "pd.options.mode.chained_assignment = None\n",
    "pd.set_option(\"display.max_rows\",None)\n",
    "pd.set_option(\"display.max_columns\",None)\n",
    "pd.options.display.float_format = '{:20,.2f}'.format"
   ]
  },
  {
   "cell_type": "code",
   "execution_count": 2,
   "id": "d5daee90-1b11-406f-8927-dce4de16a7b5",
   "metadata": {},
   "outputs": [],
   "source": [
    "# create parameters for period of time\n",
    "t1=int(365)"
   ]
  },
  {
   "cell_type": "code",
   "execution_count": 3,
   "id": "78eca517-f4a3-4bc1-8d93-3c0e44fee5b8",
   "metadata": {},
   "outputs": [
    {
     "name": "stdout",
     "output_type": "stream",
     "text": [
      "(6919, 5)\n"
     ]
    },
    {
     "data": {
      "text/html": [
       "<div>\n",
       "<style scoped>\n",
       "    .dataframe tbody tr th:only-of-type {\n",
       "        vertical-align: middle;\n",
       "    }\n",
       "\n",
       "    .dataframe tbody tr th {\n",
       "        vertical-align: top;\n",
       "    }\n",
       "\n",
       "    .dataframe thead th {\n",
       "        text-align: right;\n",
       "    }\n",
       "</style>\n",
       "<table border=\"1\" class=\"dataframe\">\n",
       "  <thead>\n",
       "    <tr style=\"text-align: right;\">\n",
       "      <th></th>\n",
       "      <th>customer_id</th>\n",
       "      <th>customer_index</th>\n",
       "      <th>date</th>\n",
       "      <th>quantity</th>\n",
       "      <th>amount</th>\n",
       "    </tr>\n",
       "  </thead>\n",
       "  <tbody>\n",
       "    <tr>\n",
       "      <th>0</th>\n",
       "      <td>4</td>\n",
       "      <td>1</td>\n",
       "      <td>1997-01-01</td>\n",
       "      <td>2</td>\n",
       "      <td>29.33</td>\n",
       "    </tr>\n",
       "    <tr>\n",
       "      <th>1</th>\n",
       "      <td>4</td>\n",
       "      <td>1</td>\n",
       "      <td>1997-01-18</td>\n",
       "      <td>2</td>\n",
       "      <td>29.73</td>\n",
       "    </tr>\n",
       "    <tr>\n",
       "      <th>2</th>\n",
       "      <td>4</td>\n",
       "      <td>1</td>\n",
       "      <td>1997-08-02</td>\n",
       "      <td>1</td>\n",
       "      <td>14.96</td>\n",
       "    </tr>\n",
       "    <tr>\n",
       "      <th>3</th>\n",
       "      <td>4</td>\n",
       "      <td>1</td>\n",
       "      <td>1997-12-12</td>\n",
       "      <td>2</td>\n",
       "      <td>26.48</td>\n",
       "    </tr>\n",
       "    <tr>\n",
       "      <th>4</th>\n",
       "      <td>21</td>\n",
       "      <td>2</td>\n",
       "      <td>1997-01-01</td>\n",
       "      <td>3</td>\n",
       "      <td>63.34</td>\n",
       "    </tr>\n",
       "  </tbody>\n",
       "</table>\n",
       "</div>"
      ],
      "text/plain": [
       "   customer_id  customer_index       date  quantity               amount\n",
       "0            4               1 1997-01-01         2                29.33\n",
       "1            4               1 1997-01-18         2                29.73\n",
       "2            4               1 1997-08-02         1                14.96\n",
       "3            4               1 1997-12-12         2                26.48\n",
       "4           21               2 1997-01-01         3                63.34"
      ]
     },
     "execution_count": 3,
     "metadata": {},
     "output_type": "execute_result"
    }
   ],
   "source": [
    "# load in the cdnow customer transactions dataset\n",
    "transactions = load_dataset(filename='CDNOW_sample.txt',header=None,delim_whitespace=True,\n",
    "                            names=['customer_id', 'customer_index', 'date', 'quantity', 'amount'],\n",
    "                            converters={'date':lambda x:pd.to_datetime(x,format=\"%Y%m%d\")})\n",
    "print(transactions.shape)\n",
    "transactions.head()"
   ]
  },
  {
   "cell_type": "code",
   "execution_count": 4,
   "id": "a56e1f65-a665-402d-8602-3c979387caa8",
   "metadata": {},
   "outputs": [
    {
     "name": "stdout",
     "output_type": "stream",
     "text": [
      "(2357, 4)\n"
     ]
    },
    {
     "data": {
      "text/html": [
       "<div>\n",
       "<style scoped>\n",
       "    .dataframe tbody tr th:only-of-type {\n",
       "        vertical-align: middle;\n",
       "    }\n",
       "\n",
       "    .dataframe tbody tr th {\n",
       "        vertical-align: top;\n",
       "    }\n",
       "\n",
       "    .dataframe thead th {\n",
       "        text-align: right;\n",
       "    }\n",
       "</style>\n",
       "<table border=\"1\" class=\"dataframe\">\n",
       "  <thead>\n",
       "    <tr style=\"text-align: right;\">\n",
       "      <th></th>\n",
       "      <th>frequency</th>\n",
       "      <th>recency</th>\n",
       "      <th>T</th>\n",
       "      <th>monetary_value</th>\n",
       "    </tr>\n",
       "    <tr>\n",
       "      <th>customer_id</th>\n",
       "      <th></th>\n",
       "      <th></th>\n",
       "      <th></th>\n",
       "      <th></th>\n",
       "    </tr>\n",
       "  </thead>\n",
       "  <tbody>\n",
       "    <tr>\n",
       "      <th>4</th>\n",
       "      <td>3.00</td>\n",
       "      <td>345.00</td>\n",
       "      <td>545.00</td>\n",
       "      <td>23.72</td>\n",
       "    </tr>\n",
       "    <tr>\n",
       "      <th>18</th>\n",
       "      <td>0.00</td>\n",
       "      <td>0.00</td>\n",
       "      <td>542.00</td>\n",
       "      <td>0.00</td>\n",
       "    </tr>\n",
       "    <tr>\n",
       "      <th>21</th>\n",
       "      <td>1.00</td>\n",
       "      <td>12.00</td>\n",
       "      <td>545.00</td>\n",
       "      <td>11.77</td>\n",
       "    </tr>\n",
       "    <tr>\n",
       "      <th>50</th>\n",
       "      <td>0.00</td>\n",
       "      <td>0.00</td>\n",
       "      <td>545.00</td>\n",
       "      <td>0.00</td>\n",
       "    </tr>\n",
       "    <tr>\n",
       "      <th>60</th>\n",
       "      <td>0.00</td>\n",
       "      <td>0.00</td>\n",
       "      <td>514.00</td>\n",
       "      <td>0.00</td>\n",
       "    </tr>\n",
       "  </tbody>\n",
       "</table>\n",
       "</div>"
      ],
      "text/plain": [
       "                       frequency              recency                    T  \\\n",
       "customer_id                                                                  \n",
       "4                           3.00               345.00               545.00   \n",
       "18                          0.00                 0.00               542.00   \n",
       "21                          1.00                12.00               545.00   \n",
       "50                          0.00                 0.00               545.00   \n",
       "60                          0.00                 0.00               514.00   \n",
       "\n",
       "                  monetary_value  \n",
       "customer_id                       \n",
       "4                          23.72  \n",
       "18                          0.00  \n",
       "21                         11.77  \n",
       "50                          0.00  \n",
       "60                          0.00  "
      ]
     },
     "execution_count": 4,
     "metadata": {},
     "output_type": "execute_result"
    }
   ],
   "source": [
    "# create a summary from transactions data where each customer has recency, frequency..\n",
    "data = summary_data_from_transaction_data(transactions=transactions,customer_id_col='customer_id', datetime_col='date',monetary_value_col='amount', \n",
    "                                          observation_period_end=pd.to_datetime('1998-06-30'),freq='D')\n",
    "print(data.shape)\n",
    "data.head()"
   ]
  },
  {
   "cell_type": "code",
   "execution_count": 5,
   "id": "8f1d22e0-250b-447b-b1e0-d74816d6dff1",
   "metadata": {},
   "outputs": [
    {
     "name": "stdout",
     "output_type": "stream",
     "text": [
      "<class 'pandas.core.frame.DataFrame'>\n",
      "Index: 2357 entries, 4 to 23569\n",
      "Data columns (total 4 columns):\n",
      " #   Column          Non-Null Count  Dtype  \n",
      "---  ------          --------------  -----  \n",
      " 0   frequency       2357 non-null   float64\n",
      " 1   recency         2357 non-null   float64\n",
      " 2   T               2357 non-null   float64\n",
      " 3   monetary_value  2357 non-null   float64\n",
      "dtypes: float64(4)\n",
      "memory usage: 92.1 KB\n"
     ]
    }
   ],
   "source": [
    "# check data types and for any missing values\n",
    "data.info()"
   ]
  },
  {
   "cell_type": "code",
   "execution_count": 6,
   "id": "db112018-ecb7-40ce-a578-7fdc0cb45667",
   "metadata": {},
   "outputs": [
    {
     "name": "stdout",
     "output_type": "stream",
     "text": [
      "<lifetimes.BetaGeoFitter: fitted with 2357 subjects, a: 0.25, alpha: 37.99, b: 0.78, r: 0.25>\n"
     ]
    }
   ],
   "source": [
    "# fit the lifetimes BGF algorithm\n",
    "bgf=BetaGeoFitter(penalizer_coef=0.01) # .001 to .1 used for L2 regularization to avoid overfitting\n",
    "bgf.fit(data['frequency'],data['recency'],data['T'])\n",
    "print(bgf)"
   ]
  },
  {
   "cell_type": "code",
   "execution_count": 7,
   "id": "0f4ded94-51e8-4f4c-94cc-79d9d9e2413d",
   "metadata": {},
   "outputs": [
    {
     "data": {
      "text/plain": [
       "<Axes: title={'center': 'Expected Number of Future Purchases for 1 Unit of Time,\\nby Frequency and Recency of a Customer'}, xlabel=\"Customer's Historical Frequency\", ylabel=\"Customer's Recency\">"
      ]
     },
     "execution_count": 7,
     "metadata": {},
     "output_type": "execute_result"
    },
    {
     "data": {
      "image/png": "[encoded data removed]",
      "text/plain": [
       "<Figure size 640x480 with 2 Axes>"
      ]
     },
     "metadata": {},
     "output_type": "display_data"
    }
   ],
   "source": [
    "# plot the future number of purchases for 1 unit of time\n",
    "plot_frequency_recency_matrix(bgf)"
   ]
  },
  {
   "cell_type": "markdown",
   "id": "9f8ce6f5-dfdc-4d92-b28a-5911d3e4f0b7",
   "metadata": {},
   "source": [
    "# Best Customer would be in lower right corner with highest frequency and recency"
   ]
  },
  {
   "cell_type": "code",
   "execution_count": 8,
   "id": "ca8e4db1-f018-4e51-a33f-21bd4a250f2d",
   "metadata": {},
   "outputs": [
    {
     "data": {
      "text/plain": [
       "<Axes: title={'center': 'Probability Customer is Alive,\\nby Frequency and Recency of a Customer'}, xlabel=\"Customer's Historical Frequency\", ylabel=\"Customer's Recency\">"
      ]
     },
     "execution_count": 8,
     "metadata": {},
     "output_type": "execute_result"
    },
    {
     "data": {
      "image/png": "[encoded data removed]",
      "text/plain": [
       "<Figure size 640x480 with 2 Axes>"
      ]
     },
     "metadata": {},
     "output_type": "display_data"
    }
   ],
   "source": [
    "# plot the prob alive matrix\n",
    "plot_probability_alive_matrix(bgf)"
   ]
  },
  {
   "cell_type": "markdown",
   "id": "1aa73d34-ad30-4afb-81b8-7dc8b11e3f52",
   "metadata": {},
   "source": [
    "# The visualization above shows a high probability alive with high recency and high frequency.  Low frequency still has a high probability alive if the recency is high however low recency does not have a high probability alive if the frequency is high so the recency seems to have more impact on the probability alive in this visualization"
   ]
  },
  {
   "cell_type": "code",
   "execution_count": 9,
   "id": "c810e294-bd49-491e-8da8-0dcb28ab87c3",
   "metadata": {},
   "outputs": [
    {
     "data": {
      "text/plain": [
       "<Figure size 1200x1200 with 0 Axes>"
      ]
     },
     "metadata": {},
     "output_type": "display_data"
    },
    {
     "data": {
      "image/png": "[encoded data removed]",
      "text/plain": [
       "<Figure size 640x480 with 1 Axes>"
      ]
     },
     "metadata": {},
     "output_type": "display_data"
    }
   ],
   "source": [
    "# take a look at how well the model predicts\n",
    "fig = plt.figure(figsize=(12,12))\n",
    "plot_period_transactions(bgf);"
   ]
  },
  {
   "cell_type": "code",
   "execution_count": 10,
   "id": "580132da-d2e4-4af3-97e2-9412c0b359ef",
   "metadata": {},
   "outputs": [],
   "source": [
    "# function for bgf model so that time period is data-driven and dynamic\n",
    "def calcTime(dataframe,t):\n",
    "    dataframe[\"predicted_purchases_\" + str(t)]= bgf.conditional_expected_number_of_purchases_up_to_time(t,dataframe['frequency'],dataframe['recency'],dataframe['T'])\n",
    "    dataframe['prob_alive'] = bgf.conditional_probability_alive(dataframe['frequency'], dataframe['recency'],dataframe['T'])\n",
    "    return dataframe"
   ]
  },
  {
   "cell_type": "code",
   "execution_count": 11,
   "id": "db2e879c-5006-42c2-98cc-ba8c0f980c0b",
   "metadata": {},
   "outputs": [
    {
     "name": "stdout",
     "output_type": "stream",
     "text": [
      "(2357, 8)\n"
     ]
    },
    {
     "data": {
      "text/html": [
       "<div>\n",
       "<style scoped>\n",
       "    .dataframe tbody tr th:only-of-type {\n",
       "        vertical-align: middle;\n",
       "    }\n",
       "\n",
       "    .dataframe tbody tr th {\n",
       "        vertical-align: top;\n",
       "    }\n",
       "\n",
       "    .dataframe thead th {\n",
       "        text-align: right;\n",
       "    }\n",
       "</style>\n",
       "<table border=\"1\" class=\"dataframe\">\n",
       "  <thead>\n",
       "    <tr style=\"text-align: right;\">\n",
       "      <th></th>\n",
       "      <th>index</th>\n",
       "      <th>customer_id</th>\n",
       "      <th>frequency</th>\n",
       "      <th>recency</th>\n",
       "      <th>T</th>\n",
       "      <th>monetary_value</th>\n",
       "      <th>predicted_purchases_365</th>\n",
       "      <th>prob_alive</th>\n",
       "    </tr>\n",
       "  </thead>\n",
       "  <tbody>\n",
       "    <tr>\n",
       "      <th>0</th>\n",
       "      <td>0</td>\n",
       "      <td>4</td>\n",
       "      <td>3.00</td>\n",
       "      <td>345.00</td>\n",
       "      <td>545.00</td>\n",
       "      <td>23.72</td>\n",
       "      <td>1.40</td>\n",
       "      <td>0.74</td>\n",
       "    </tr>\n",
       "    <tr>\n",
       "      <th>1</th>\n",
       "      <td>1</td>\n",
       "      <td>18</td>\n",
       "      <td>0.00</td>\n",
       "      <td>0.00</td>\n",
       "      <td>542.00</td>\n",
       "      <td>0.00</td>\n",
       "      <td>0.15</td>\n",
       "      <td>1.00</td>\n",
       "    </tr>\n",
       "    <tr>\n",
       "      <th>2</th>\n",
       "      <td>2</td>\n",
       "      <td>21</td>\n",
       "      <td>1.00</td>\n",
       "      <td>12.00</td>\n",
       "      <td>545.00</td>\n",
       "      <td>11.77</td>\n",
       "      <td>0.09</td>\n",
       "      <td>0.12</td>\n",
       "    </tr>\n",
       "    <tr>\n",
       "      <th>3</th>\n",
       "      <td>3</td>\n",
       "      <td>50</td>\n",
       "      <td>0.00</td>\n",
       "      <td>0.00</td>\n",
       "      <td>545.00</td>\n",
       "      <td>0.00</td>\n",
       "      <td>0.15</td>\n",
       "      <td>1.00</td>\n",
       "    </tr>\n",
       "    <tr>\n",
       "      <th>4</th>\n",
       "      <td>4</td>\n",
       "      <td>60</td>\n",
       "      <td>0.00</td>\n",
       "      <td>0.00</td>\n",
       "      <td>514.00</td>\n",
       "      <td>0.00</td>\n",
       "      <td>0.15</td>\n",
       "      <td>1.00</td>\n",
       "    </tr>\n",
       "  </tbody>\n",
       "</table>\n",
       "</div>"
      ],
      "text/plain": [
       "   index  customer_id            frequency              recency  \\\n",
       "0      0            4                 3.00               345.00   \n",
       "1      1           18                 0.00                 0.00   \n",
       "2      2           21                 1.00                12.00   \n",
       "3      3           50                 0.00                 0.00   \n",
       "4      4           60                 0.00                 0.00   \n",
       "\n",
       "                     T       monetary_value  predicted_purchases_365  \\\n",
       "0               545.00                23.72                     1.40   \n",
       "1               542.00                 0.00                     0.15   \n",
       "2               545.00                11.77                     0.09   \n",
       "3               545.00                 0.00                     0.15   \n",
       "4               514.00                 0.00                     0.15   \n",
       "\n",
       "            prob_alive  \n",
       "0                 0.74  \n",
       "1                 1.00  \n",
       "2                 0.12  \n",
       "3                 1.00  \n",
       "4                 1.00  "
      ]
     },
     "execution_count": 11,
     "metadata": {},
     "output_type": "execute_result"
    }
   ],
   "source": [
    "# call functions for different time periods\n",
    "bgf1=calcTime(data, t1).reset_index().reset_index()\n",
    "print(bgf1.shape)\n",
    "bgf1.head()"
   ]
  },
  {
   "cell_type": "code",
   "execution_count": 12,
   "id": "0dc34d12-c2be-47c5-b00b-a69ef0f511de",
   "metadata": {},
   "outputs": [
    {
     "name": "stdout",
     "output_type": "stream",
     "text": [
      "(1139, 9)\n"
     ]
    },
    {
     "data": {
      "text/html": [
       "<div>\n",
       "<style scoped>\n",
       "    .dataframe tbody tr th:only-of-type {\n",
       "        vertical-align: middle;\n",
       "    }\n",
       "\n",
       "    .dataframe tbody tr th {\n",
       "        vertical-align: top;\n",
       "    }\n",
       "\n",
       "    .dataframe thead th {\n",
       "        text-align: right;\n",
       "    }\n",
       "</style>\n",
       "<table border=\"1\" class=\"dataframe\">\n",
       "  <thead>\n",
       "    <tr style=\"text-align: right;\">\n",
       "      <th></th>\n",
       "      <th>index</th>\n",
       "      <th>customer_id</th>\n",
       "      <th>frequency</th>\n",
       "      <th>recency</th>\n",
       "      <th>T</th>\n",
       "      <th>monetary_value</th>\n",
       "      <th>predicted_purchases_365</th>\n",
       "      <th>prob_alive</th>\n",
       "      <th>prob_not_alive</th>\n",
       "    </tr>\n",
       "  </thead>\n",
       "  <tbody>\n",
       "    <tr>\n",
       "      <th>0</th>\n",
       "      <td>0</td>\n",
       "      <td>4</td>\n",
       "      <td>3.00</td>\n",
       "      <td>345.00</td>\n",
       "      <td>545.00</td>\n",
       "      <td>23.72</td>\n",
       "      <td>1.40</td>\n",
       "      <td>0.74</td>\n",
       "      <td>0.26</td>\n",
       "    </tr>\n",
       "    <tr>\n",
       "      <th>2</th>\n",
       "      <td>2</td>\n",
       "      <td>21</td>\n",
       "      <td>1.00</td>\n",
       "      <td>12.00</td>\n",
       "      <td>545.00</td>\n",
       "      <td>11.77</td>\n",
       "      <td>0.09</td>\n",
       "      <td>0.12</td>\n",
       "      <td>0.88</td>\n",
       "    </tr>\n",
       "    <tr>\n",
       "      <th>7</th>\n",
       "      <td>7</td>\n",
       "      <td>111</td>\n",
       "      <td>15.00</td>\n",
       "      <td>535.00</td>\n",
       "      <td>545.00</td>\n",
       "      <td>71.40</td>\n",
       "      <td>8.74</td>\n",
       "      <td>0.98</td>\n",
       "      <td>0.02</td>\n",
       "    </tr>\n",
       "    <tr>\n",
       "      <th>8</th>\n",
       "      <td>8</td>\n",
       "      <td>112</td>\n",
       "      <td>1.00</td>\n",
       "      <td>35.00</td>\n",
       "      <td>545.00</td>\n",
       "      <td>11.77</td>\n",
       "      <td>0.14</td>\n",
       "      <td>0.19</td>\n",
       "      <td>0.81</td>\n",
       "    </tr>\n",
       "    <tr>\n",
       "      <th>9</th>\n",
       "      <td>9</td>\n",
       "      <td>113</td>\n",
       "      <td>2.00</td>\n",
       "      <td>430.00</td>\n",
       "      <td>545.00</td>\n",
       "      <td>13.38</td>\n",
       "      <td>1.07</td>\n",
       "      <td>0.81</td>\n",
       "      <td>0.19</td>\n",
       "    </tr>\n",
       "  </tbody>\n",
       "</table>\n",
       "</div>"
      ],
      "text/plain": [
       "   index  customer_id            frequency              recency  \\\n",
       "0      0            4                 3.00               345.00   \n",
       "2      2           21                 1.00                12.00   \n",
       "7      7          111                15.00               535.00   \n",
       "8      8          112                 1.00                35.00   \n",
       "9      9          113                 2.00               430.00   \n",
       "\n",
       "                     T       monetary_value  predicted_purchases_365  \\\n",
       "0               545.00                23.72                     1.40   \n",
       "2               545.00                11.77                     0.09   \n",
       "7               545.00                71.40                     8.74   \n",
       "8               545.00                11.77                     0.14   \n",
       "9               545.00                13.38                     1.07   \n",
       "\n",
       "            prob_alive       prob_not_alive  \n",
       "0                 0.74                 0.26  \n",
       "2                 0.12                 0.88  \n",
       "7                 0.98                 0.02  \n",
       "8                 0.19                 0.81  \n",
       "9                 0.81                 0.19  "
      ]
     },
     "execution_count": 12,
     "metadata": {},
     "output_type": "execute_result"
    }
   ],
   "source": [
    "# create dataframe to calculate customer avg profit(for accuracy remove frequency=0);add prob not alive column\n",
    "customer_df = bgf1[bgf1['frequency']>0]\n",
    "customer_df['prob_not_alive'] = 1 - customer_df['prob_alive']\n",
    "print(customer_df.shape)\n",
    "customer_df.head()"
   ]
  },
  {
   "cell_type": "code",
   "execution_count": 13,
   "id": "202e501f-e588-4882-9988-e1c98ba24c0f",
   "metadata": {},
   "outputs": [
    {
     "data": {
      "text/plain": [
       "<lifetimes.GammaGammaFitter: fitted with 1139 subjects, p: 7.96, q: 2.48, v: 7.50>"
      ]
     },
     "execution_count": 13,
     "metadata": {},
     "output_type": "execute_result"
    }
   ],
   "source": [
    "# fit the gamma gamma fitter model for CLV\n",
    "ggf = lifetimes.GammaGammaFitter(penalizer_coef=0.001)\n",
    "ggf.fit(customer_df['frequency'], customer_df['monetary_value'])"
   ]
  },
  {
   "cell_type": "code",
   "execution_count": 14,
   "id": "c28f0900-c28e-429c-be9c-2fa29e398ed6",
   "metadata": {},
   "outputs": [
    {
     "data": {
      "text/html": [
       "<div>\n",
       "<style scoped>\n",
       "    .dataframe tbody tr th:only-of-type {\n",
       "        vertical-align: middle;\n",
       "    }\n",
       "\n",
       "    .dataframe tbody tr th {\n",
       "        vertical-align: top;\n",
       "    }\n",
       "\n",
       "    .dataframe thead th {\n",
       "        text-align: right;\n",
       "    }\n",
       "</style>\n",
       "<table border=\"1\" class=\"dataframe\">\n",
       "  <thead>\n",
       "    <tr style=\"text-align: right;\">\n",
       "      <th></th>\n",
       "      <th>index</th>\n",
       "      <th>avg_profit</th>\n",
       "    </tr>\n",
       "  </thead>\n",
       "  <tbody>\n",
       "    <tr>\n",
       "      <th>0</th>\n",
       "      <td>0</td>\n",
       "      <td>24.69</td>\n",
       "    </tr>\n",
       "    <tr>\n",
       "      <th>1</th>\n",
       "      <td>2</td>\n",
       "      <td>16.24</td>\n",
       "    </tr>\n",
       "    <tr>\n",
       "      <th>2</th>\n",
       "      <td>7</td>\n",
       "      <td>71.02</td>\n",
       "    </tr>\n",
       "    <tr>\n",
       "      <th>3</th>\n",
       "      <td>8</td>\n",
       "      <td>16.24</td>\n",
       "    </tr>\n",
       "    <tr>\n",
       "      <th>4</th>\n",
       "      <td>9</td>\n",
       "      <td>15.67</td>\n",
       "    </tr>\n",
       "  </tbody>\n",
       "</table>\n",
       "</div>"
      ],
      "text/plain": [
       "   index           avg_profit\n",
       "0      0                24.69\n",
       "1      2                16.24\n",
       "2      7                71.02\n",
       "3      8                16.24\n",
       "4      9                15.67"
      ]
     },
     "execution_count": 14,
     "metadata": {},
     "output_type": "execute_result"
    }
   ],
   "source": [
    "# examine if avg profit is valuable to final output\n",
    "avg_profit=ggf.conditional_expected_average_profit(customer_df['frequency'],customer_df['monetary_value'])\n",
    "df_avg_profit=avg_profit.to_frame(\"avg_profit\").reset_index()\n",
    "df_avg_profit.head()"
   ]
  },
  {
   "cell_type": "code",
   "execution_count": 15,
   "id": "810c130a-d59e-4e86-bd87-d58742adc4ce",
   "metadata": {},
   "outputs": [
    {
     "name": "stdout",
     "output_type": "stream",
     "text": [
      "Expected condtional average profit: 36.290571994118004, Average profit: 35.78440858463762\n"
     ]
    }
   ],
   "source": [
    "# calculate conditional avg profit across all customer IDs\n",
    "print(\"Expected condtional average profit: %s, Average profit: %s\" % (ggf.conditional_expected_average_profit(\n",
    "customer_df['frequency'], customer_df['monetary_value']).mean(),\n",
    "customer_df[customer_df['frequency']>0]['monetary_value'].mean()))"
   ]
  },
  {
   "cell_type": "code",
   "execution_count": 16,
   "id": "814b80e4-7413-4328-9d42-649f5dc928d6",
   "metadata": {},
   "outputs": [
    {
     "data": {
      "text/plain": [
       "<lifetimes.BetaGeoFitter: fitted with 1139 subjects, a: 0.36, alpha: 112.00, b: 0.89, r: 1.55>"
      ]
     },
     "execution_count": 16,
     "metadata": {},
     "output_type": "execute_result"
    }
   ],
   "source": [
    "# refit bgf model to customer_dfs data and use test data for ggf model\n",
    "bgf.fit(customer_df['frequency'],customer_df['recency'],customer_df['T'])"
   ]
  },
  {
   "cell_type": "code",
   "execution_count": 17,
   "id": "72a39c7b-9dd9-4c98-8cb6-19ba106c85f1",
   "metadata": {},
   "outputs": [],
   "source": [
    "# write a function for the model so that way any time period can be calculated\n",
    "def customerLV(dataframe, t):\n",
    "    time = round(t/30.417)\n",
    "    customer_lv=ggf.customer_lifetime_value(bgf,\n",
    "    dataframe['frequency'], dataframe['recency'],dataframe['T'],dataframe['monetary_value'],\n",
    "    time=time,\n",
    "    discount_rate=0.01)\n",
    "    clv_df=customer_lv.to_frame(\"predicted_CLV_\" + str(t))\n",
    "    clv_df.reset_index(inplace=True)\n",
    "    return clv_df"
   ]
  },
  {
   "cell_type": "code",
   "execution_count": 18,
   "id": "2a101a23-8fb3-4225-afa6-c269ef0e9925",
   "metadata": {},
   "outputs": [
    {
     "name": "stdout",
     "output_type": "stream",
     "text": [
      "(1139, 2)\n"
     ]
    },
    {
     "data": {
      "text/html": [
       "<div>\n",
       "<style scoped>\n",
       "    .dataframe tbody tr th:only-of-type {\n",
       "        vertical-align: middle;\n",
       "    }\n",
       "\n",
       "    .dataframe tbody tr th {\n",
       "        vertical-align: top;\n",
       "    }\n",
       "\n",
       "    .dataframe thead th {\n",
       "        text-align: right;\n",
       "    }\n",
       "</style>\n",
       "<table border=\"1\" class=\"dataframe\">\n",
       "  <thead>\n",
       "    <tr style=\"text-align: right;\">\n",
       "      <th></th>\n",
       "      <th>index</th>\n",
       "      <th>predicted_CLV_365</th>\n",
       "    </tr>\n",
       "  </thead>\n",
       "  <tbody>\n",
       "    <tr>\n",
       "      <th>0</th>\n",
       "      <td>0</td>\n",
       "      <td>31.63</td>\n",
       "    </tr>\n",
       "    <tr>\n",
       "      <th>1</th>\n",
       "      <td>2</td>\n",
       "      <td>0.64</td>\n",
       "    </tr>\n",
       "    <tr>\n",
       "      <th>2</th>\n",
       "      <td>7</td>\n",
       "      <td>537.11</td>\n",
       "    </tr>\n",
       "    <tr>\n",
       "      <th>3</th>\n",
       "      <td>8</td>\n",
       "      <td>0.97</td>\n",
       "    </tr>\n",
       "    <tr>\n",
       "      <th>4</th>\n",
       "      <td>9</td>\n",
       "      <td>18.62</td>\n",
       "    </tr>\n",
       "  </tbody>\n",
       "</table>\n",
       "</div>"
      ],
      "text/plain": [
       "   index    predicted_CLV_365\n",
       "0      0                31.63\n",
       "1      2                 0.64\n",
       "2      7               537.11\n",
       "3      8                 0.97\n",
       "4      9                18.62"
      ]
     },
     "execution_count": 18,
     "metadata": {},
     "output_type": "execute_result"
    }
   ],
   "source": [
    "# call the function\n",
    "clv=customerLV(customer_df,t1)\n",
    "print(clv.shape)\n",
    "clv.head()"
   ]
  },
  {
   "cell_type": "code",
   "execution_count": 19,
   "id": "389b58a7-2f5a-499b-ba52-cc2dfa304d0a",
   "metadata": {},
   "outputs": [
    {
     "name": "stdout",
     "output_type": "stream",
     "text": [
      "(1139, 11)\n"
     ]
    },
    {
     "data": {
      "text/html": [
       "<div>\n",
       "<style scoped>\n",
       "    .dataframe tbody tr th:only-of-type {\n",
       "        vertical-align: middle;\n",
       "    }\n",
       "\n",
       "    .dataframe tbody tr th {\n",
       "        vertical-align: top;\n",
       "    }\n",
       "\n",
       "    .dataframe thead th {\n",
       "        text-align: right;\n",
       "    }\n",
       "</style>\n",
       "<table border=\"1\" class=\"dataframe\">\n",
       "  <thead>\n",
       "    <tr style=\"text-align: right;\">\n",
       "      <th></th>\n",
       "      <th>index</th>\n",
       "      <th>predicted_CLV_365</th>\n",
       "      <th>avg_profit</th>\n",
       "      <th>customer_id</th>\n",
       "      <th>frequency</th>\n",
       "      <th>recency</th>\n",
       "      <th>T</th>\n",
       "      <th>monetary_value</th>\n",
       "      <th>predicted_purchases_365</th>\n",
       "      <th>prob_alive</th>\n",
       "      <th>prob_not_alive</th>\n",
       "    </tr>\n",
       "  </thead>\n",
       "  <tbody>\n",
       "    <tr>\n",
       "      <th>0</th>\n",
       "      <td>0</td>\n",
       "      <td>31.63</td>\n",
       "      <td>24.69</td>\n",
       "      <td>4</td>\n",
       "      <td>3.00</td>\n",
       "      <td>345.00</td>\n",
       "      <td>545.00</td>\n",
       "      <td>23.72</td>\n",
       "      <td>1.40</td>\n",
       "      <td>0.74</td>\n",
       "      <td>0.26</td>\n",
       "    </tr>\n",
       "    <tr>\n",
       "      <th>1</th>\n",
       "      <td>2</td>\n",
       "      <td>0.64</td>\n",
       "      <td>16.24</td>\n",
       "      <td>21</td>\n",
       "      <td>1.00</td>\n",
       "      <td>12.00</td>\n",
       "      <td>545.00</td>\n",
       "      <td>11.77</td>\n",
       "      <td>0.09</td>\n",
       "      <td>0.12</td>\n",
       "      <td>0.88</td>\n",
       "    </tr>\n",
       "    <tr>\n",
       "      <th>2</th>\n",
       "      <td>7</td>\n",
       "      <td>537.11</td>\n",
       "      <td>71.02</td>\n",
       "      <td>111</td>\n",
       "      <td>15.00</td>\n",
       "      <td>535.00</td>\n",
       "      <td>545.00</td>\n",
       "      <td>71.40</td>\n",
       "      <td>8.74</td>\n",
       "      <td>0.98</td>\n",
       "      <td>0.02</td>\n",
       "    </tr>\n",
       "    <tr>\n",
       "      <th>3</th>\n",
       "      <td>8</td>\n",
       "      <td>0.97</td>\n",
       "      <td>16.24</td>\n",
       "      <td>112</td>\n",
       "      <td>1.00</td>\n",
       "      <td>35.00</td>\n",
       "      <td>545.00</td>\n",
       "      <td>11.77</td>\n",
       "      <td>0.14</td>\n",
       "      <td>0.19</td>\n",
       "      <td>0.81</td>\n",
       "    </tr>\n",
       "    <tr>\n",
       "      <th>4</th>\n",
       "      <td>9</td>\n",
       "      <td>18.62</td>\n",
       "      <td>15.67</td>\n",
       "      <td>113</td>\n",
       "      <td>2.00</td>\n",
       "      <td>430.00</td>\n",
       "      <td>545.00</td>\n",
       "      <td>13.38</td>\n",
       "      <td>1.07</td>\n",
       "      <td>0.81</td>\n",
       "      <td>0.19</td>\n",
       "    </tr>\n",
       "  </tbody>\n",
       "</table>\n",
       "</div>"
      ],
      "text/plain": [
       "   index    predicted_CLV_365           avg_profit  customer_id  \\\n",
       "0      0                31.63                24.69            4   \n",
       "1      2                 0.64                16.24           21   \n",
       "2      7               537.11                71.02          111   \n",
       "3      8                 0.97                16.24          112   \n",
       "4      9                18.62                15.67          113   \n",
       "\n",
       "             frequency              recency                    T  \\\n",
       "0                 3.00               345.00               545.00   \n",
       "1                 1.00                12.00               545.00   \n",
       "2                15.00               535.00               545.00   \n",
       "3                 1.00                35.00               545.00   \n",
       "4                 2.00               430.00               545.00   \n",
       "\n",
       "        monetary_value  predicted_purchases_365           prob_alive  \\\n",
       "0                23.72                     1.40                 0.74   \n",
       "1                11.77                     0.09                 0.12   \n",
       "2                71.40                     8.74                 0.98   \n",
       "3                11.77                     0.14                 0.19   \n",
       "4                13.38                     1.07                 0.81   \n",
       "\n",
       "        prob_not_alive  \n",
       "0                 0.26  \n",
       "1                 0.88  \n",
       "2                 0.02  \n",
       "3                 0.81  \n",
       "4                 0.19  "
      ]
     },
     "execution_count": 19,
     "metadata": {},
     "output_type": "execute_result"
    }
   ],
   "source": [
    "# create one dataframe with all time predicted columns and merged on index\n",
    "customers_df = reduce(lambda left,right:pd.merge(left, right, on='index', how='inner'),[clv, df_avg_profit, customer_df])\n",
    "print(customers_df.shape)\n",
    "customers_df.head()"
   ]
  },
  {
   "cell_type": "code",
   "execution_count": null,
   "id": "ec78a216-8e5b-4587-b209-512f92bdd201",
   "metadata": {},
   "outputs": [],
   "source": []
  }
 ],
 "metadata": {
  "kernelspec": {
   "display_name": "Python 3 (ipykernel)",
   "language": "python",
   "name": "python3"
  },
  "language_info": {
   "codemirror_mode": {
    "name": "ipython",
    "version": 3
   },
   "file_extension": ".py",
   "mimetype": "text/x-python",
   "name": "python",
   "nbconvert_exporter": "python",
   "pygments_lexer": "ipython3",
   "version": "3.12.4"
  }
 },
 "nbformat": 4,
 "nbformat_minor": 5
}
